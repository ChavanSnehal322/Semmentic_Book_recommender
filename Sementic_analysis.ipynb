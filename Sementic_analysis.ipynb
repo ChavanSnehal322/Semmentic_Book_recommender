{
 "cells": [
  {
   "cell_type": "code",
   "execution_count": null,
   "id": "39a245f3",
   "metadata": {},
   "outputs": [],
   "source": []
  },
  {
   "cell_type": "code",
   "execution_count": 1,
   "id": "7c686306",
   "metadata": {},
   "outputs": [],
   "source": [
    "import pandas as pd"
   ]
  },
  {
   "cell_type": "code",
   "execution_count": null,
   "id": "7937dfd1",
   "metadata": {},
   "outputs": [],
   "source": [
    "# loading of a csv data\n",
    "\n",
    "books = pd.read_csv(\"books_categories.csv\")"
   ]
  },
  {
   "cell_type": "code",
   "execution_count": null,
   "id": "4285fc40",
   "metadata": {},
   "outputs": [
    {
     "data": {
      "application/vnd.jupyter.widget-view+json": {
       "model_id": "0214fb305cfb4d46bc93b0a83c50201f",
       "version_major": 2,
       "version_minor": 0
      },
      "text/plain": [
       "config.json: 0.00B [00:00, ?B/s]"
      ]
     },
     "metadata": {},
     "output_type": "display_data"
    },
    {
     "data": {
      "application/vnd.jupyter.widget-view+json": {
       "model_id": "acd42bce9b0741c5afd9114d73bcedcd",
       "version_major": 2,
       "version_minor": 0
      },
      "text/plain": [
       "pytorch_model.bin:   0%|          | 0.00/329M [00:00<?, ?B/s]"
      ]
     },
     "metadata": {},
     "output_type": "display_data"
    },
    {
     "data": {
      "application/vnd.jupyter.widget-view+json": {
       "model_id": "659ae30ddac04051bcac4d2cdbb787e6",
       "version_major": 2,
       "version_minor": 0
      },
      "text/plain": [
       "tokenizer_config.json:   0%|          | 0.00/294 [00:00<?, ?B/s]"
      ]
     },
     "metadata": {},
     "output_type": "display_data"
    },
    {
     "data": {
      "application/vnd.jupyter.widget-view+json": {
       "model_id": "abd9dd5a23e549d3ac1a19a4f7736beb",
       "version_major": 2,
       "version_minor": 0
      },
      "text/plain": [
       "vocab.json: 0.00B [00:00, ?B/s]"
      ]
     },
     "metadata": {},
     "output_type": "display_data"
    },
    {
     "data": {
      "application/vnd.jupyter.widget-view+json": {
       "model_id": "eced20c3e838493483974a410bb136b1",
       "version_major": 2,
       "version_minor": 0
      },
      "text/plain": [
       "model.safetensors:   0%|          | 0.00/329M [00:00<?, ?B/s]"
      ]
     },
     "metadata": {},
     "output_type": "display_data"
    },
    {
     "data": {
      "application/vnd.jupyter.widget-view+json": {
       "model_id": "5c9fb905fffa4411844364e7d2a377f9",
       "version_major": 2,
       "version_minor": 0
      },
      "text/plain": [
       "merges.txt: 0.00B [00:00, ?B/s]"
      ]
     },
     "metadata": {},
     "output_type": "display_data"
    },
    {
     "data": {
      "application/vnd.jupyter.widget-view+json": {
       "model_id": "1c17b70a7e48447ebfdf849c522b2de4",
       "version_major": 2,
       "version_minor": 0
      },
      "text/plain": [
       "tokenizer.json: 0.00B [00:00, ?B/s]"
      ]
     },
     "metadata": {},
     "output_type": "display_data"
    },
    {
     "data": {
      "application/vnd.jupyter.widget-view+json": {
       "model_id": "3147f52d9a9c4a76856390901e8caaa0",
       "version_major": 2,
       "version_minor": 0
      },
      "text/plain": [
       "special_tokens_map.json:   0%|          | 0.00/239 [00:00<?, ?B/s]"
      ]
     },
     "metadata": {},
     "output_type": "display_data"
    },
    {
     "name": "stderr",
     "output_type": "stream",
     "text": [
      "Device set to use mps:0\n",
      "/Users/snehalchavan/Visual Studio Projects/Sementic_Book_Recommender/.venv/lib/python3.12/site-packages/transformers/pipelines/text_classification.py:106: UserWarning: `return_all_scores` is now deprecated,  if want a similar functionality use `top_k=None` instead of `return_all_scores=True` or `top_k=1` instead of `return_all_scores=False`.\n",
      "  warnings.warn(\n"
     ]
    },
    {
     "data": {
      "text/plain": [
       "[[{'label': 'anger', 'score': 0.004419783595949411},\n",
       "  {'label': 'disgust', 'score': 0.001611992483958602},\n",
       "  {'label': 'fear', 'score': 0.00041385198710486293},\n",
       "  {'label': 'joy', 'score': 0.9771687984466553},\n",
       "  {'label': 'neutral', 'score': 0.00576459476724267},\n",
       "  {'label': 'sadness', 'score': 0.002092391485348344},\n",
       "  {'label': 'surprise', 'score': 0.00852868054062128}]]"
      ]
     },
     "execution_count": 3,
     "metadata": {},
     "output_type": "execute_result"
    }
   ],
   "source": [
    "# importing hugging face emotion model classifier popeline\n",
    "\n",
    "from transformers import pipeline\n",
    "\n",
    "# model for predicting the emotions \n",
    "classifiers = pipeline(\"text-classification\", model = \"j-hartmann/emotion-english-distilroberta-base\", return_all_scores = True)\n",
    "\n",
    "classifiers(\"I love this!\")"
   ]
  },
  {
   "cell_type": "code",
   "execution_count": 4,
   "id": "e6a32bf6",
   "metadata": {},
   "outputs": [
    {
     "name": "stderr",
     "output_type": "stream",
     "text": [
      "Device set to use mps\n"
     ]
    },
    {
     "data": {
      "text/plain": [
       "[[{'label': 'joy', 'score': 0.9771687984466553},\n",
       "  {'label': 'surprise', 'score': 0.00852868054062128},\n",
       "  {'label': 'neutral', 'score': 0.00576459476724267},\n",
       "  {'label': 'anger', 'score': 0.004419783595949411},\n",
       "  {'label': 'sadness', 'score': 0.002092391485348344},\n",
       "  {'label': 'disgust', 'score': 0.001611992483958602},\n",
       "  {'label': 'fear', 'score': 0.00041385198710486293}]]"
      ]
     },
     "execution_count": 4,
     "metadata": {},
     "output_type": "execute_result"
    }
   ],
   "source": [
    "classifier = pipeline(\"text-classification\",\n",
    "                      model = \"j-hartmann/emotion-english-distilroberta-base\",\n",
    "                      top_k = None,\n",
    "                      device = \"mps\")\n",
    "\n",
    "classifier(\"I love this!\")"
   ]
  },
  {
   "cell_type": "code",
   "execution_count": null,
   "id": "f1885edf",
   "metadata": {},
   "outputs": [
    {
     "data": {
      "text/plain": [
       "'A NOVEL THAT READERS and critics have been eagerly anticipating for over a decade, Gilead is an astonishingly imagined story of remarkable lives. John Ames is a preacher, the son of a preacher and the grandson (both maternal and paternal) of preachers. It’s 1956 in Gilead, Iowa, towards the end of the Reverend Ames’s life, and he is absorbed in recording his family’s story, a legacy for the young son he will never see grow up. Haunted by his grandfather’s presence, John tells of the rift between his grandfather and his father: the elder, an angry visionary who fought for the abolitionist cause, and his son, an ardent pacifist. He is troubled, too, by his prodigal namesake, Jack (John Ames) Boughton, his best friend’s lost son who returns to Gilead searching for forgiveness and redemption. Told in John Ames’s joyous, rambling voice that finds beauty, humour and truth in the smallest of life’s details, Gilead is a song of celebration and acceptance of the best and the worst the world has to offer. At its heart is a tale of the sacred bonds between fathers and sons, pitch-perfect in style and story, set to dazzle critics and readers alike.'"
      ]
     },
     "execution_count": 5,
     "metadata": {},
     "output_type": "execute_result"
    }
   ],
   "source": [
    "# fetching first book description\n",
    "\n",
    "books[\"description\"][0]"
   ]
  },
  {
   "cell_type": "code",
   "execution_count": null,
   "id": "e1024f37",
   "metadata": {},
   "outputs": [
    {
     "data": {
      "text/plain": [
       "[[{'label': 'fear', 'score': 0.6548422574996948},\n",
       "  {'label': 'neutral', 'score': 0.16985155642032623},\n",
       "  {'label': 'sadness', 'score': 0.11640843003988266},\n",
       "  {'label': 'surprise', 'score': 0.020700642839074135},\n",
       "  {'label': 'disgust', 'score': 0.019100701436400414},\n",
       "  {'label': 'joy', 'score': 0.015161211602389812},\n",
       "  {'label': 'anger', 'score': 0.003935141488909721}]]"
      ]
     },
     "execution_count": 6,
     "metadata": {},
     "output_type": "execute_result"
    }
   ],
   "source": [
    "# classifying the description\n",
    "\n",
    "classifier(books[\"description\"][0])"
   ]
  },
  {
   "cell_type": "code",
   "execution_count": null,
   "id": "f3eb407c",
   "metadata": {},
   "outputs": [
    {
     "data": {
      "text/plain": [
       "[[{'label': 'surprise', 'score': 0.7296021580696106},\n",
       "  {'label': 'neutral', 'score': 0.14038625359535217},\n",
       "  {'label': 'fear', 'score': 0.06816215068101883},\n",
       "  {'label': 'joy', 'score': 0.0479423962533474},\n",
       "  {'label': 'anger', 'score': 0.009156353771686554},\n",
       "  {'label': 'disgust', 'score': 0.0026284793857485056},\n",
       "  {'label': 'sadness', 'score': 0.0021221640054136515}],\n",
       " [{'label': 'neutral', 'score': 0.44937190413475037},\n",
       "  {'label': 'disgust', 'score': 0.2735902965068817},\n",
       "  {'label': 'joy', 'score': 0.1090828999876976},\n",
       "  {'label': 'sadness', 'score': 0.09362740814685822},\n",
       "  {'label': 'anger', 'score': 0.04047819972038269},\n",
       "  {'label': 'surprise', 'score': 0.02697022259235382},\n",
       "  {'label': 'fear', 'score': 0.00687906239181757}],\n",
       " [{'label': 'neutral', 'score': 0.6462162137031555},\n",
       "  {'label': 'sadness', 'score': 0.24273328483104706},\n",
       "  {'label': 'disgust', 'score': 0.043422579765319824},\n",
       "  {'label': 'surprise', 'score': 0.028300493955612183},\n",
       "  {'label': 'joy', 'score': 0.014211435802280903},\n",
       "  {'label': 'fear', 'score': 0.014084085822105408},\n",
       "  {'label': 'anger', 'score': 0.011031859554350376}],\n",
       " [{'label': 'fear', 'score': 0.9281688332557678},\n",
       "  {'label': 'anger', 'score': 0.03219037875533104},\n",
       "  {'label': 'neutral', 'score': 0.012808619067072868},\n",
       "  {'label': 'sadness', 'score': 0.00875683780759573},\n",
       "  {'label': 'surprise', 'score': 0.008597852662205696},\n",
       "  {'label': 'disgust', 'score': 0.008431759662926197},\n",
       "  {'label': 'joy', 'score': 0.001045577460899949}],\n",
       " [{'label': 'sadness', 'score': 0.9671575427055359},\n",
       "  {'label': 'neutral', 'score': 0.015104164369404316},\n",
       "  {'label': 'disgust', 'score': 0.006480592768639326},\n",
       "  {'label': 'fear', 'score': 0.005393995437771082},\n",
       "  {'label': 'surprise', 'score': 0.0022869398817420006},\n",
       "  {'label': 'anger', 'score': 0.0018428867915645242},\n",
       "  {'label': 'joy', 'score': 0.0017338780453428626}],\n",
       " [{'label': 'joy', 'score': 0.9327982664108276},\n",
       "  {'label': 'disgust', 'score': 0.03771692514419556},\n",
       "  {'label': 'neutral', 'score': 0.015891805291175842},\n",
       "  {'label': 'sadness', 'score': 0.006444476079195738},\n",
       "  {'label': 'anger', 'score': 0.005024957004934549},\n",
       "  {'label': 'surprise', 'score': 0.0015812045894563198},\n",
       "  {'label': 'fear', 'score': 0.0005423055263236165}],\n",
       " [{'label': 'joy', 'score': 0.6528705954551697},\n",
       "  {'label': 'neutral', 'score': 0.25427472591400146},\n",
       "  {'label': 'surprise', 'score': 0.06808312982320786},\n",
       "  {'label': 'sadness', 'score': 0.00990901980549097},\n",
       "  {'label': 'disgust', 'score': 0.0065122139640152454},\n",
       "  {'label': 'anger', 'score': 0.004821311682462692},\n",
       "  {'label': 'fear', 'score': 0.003529016161337495}],\n",
       " [{'label': 'neutral', 'score': 0.5494773387908936},\n",
       "  {'label': 'sadness', 'score': 0.11169011145830154},\n",
       "  {'label': 'disgust', 'score': 0.1040065661072731},\n",
       "  {'label': 'surprise', 'score': 0.07876542955636978},\n",
       "  {'label': 'anger', 'score': 0.06413352489471436},\n",
       "  {'label': 'fear', 'score': 0.05136272683739662},\n",
       "  {'label': 'joy', 'score': 0.040564339607954025}]]"
      ]
     },
     "execution_count": 9,
     "metadata": {},
     "output_type": "execute_result"
    }
   ],
   "source": [
    "# classifying multiple sentances at same time which are separated by \".\"\n",
    "\n",
    "classifier(books[\"description\"][0].split(\".\"))"
   ]
  },
  {
   "cell_type": "code",
   "execution_count": null,
   "id": "8747dff4",
   "metadata": {},
   "outputs": [],
   "source": [
    "# spliting the description into sentences \n",
    "sentence = books[\"description\"][0].split(\".\")\n",
    "\n",
    "prediction = classifier(sentence)"
   ]
  },
  {
   "cell_type": "code",
   "execution_count": null,
   "id": "6c5d9b5c",
   "metadata": {},
   "outputs": [
    {
     "data": {
      "text/plain": [
       "'A NOVEL THAT READERS and critics have been eagerly anticipating for over a decade, Gilead is an astonishingly imagined story of remarkable lives'"
      ]
     },
     "execution_count": 12,
     "metadata": {},
     "output_type": "execute_result"
    }
   ],
   "source": [
    "# prints separated sentences \n",
    "sentence[0]"
   ]
  },
  {
   "cell_type": "code",
   "execution_count": null,
   "id": "b7d19d9a",
   "metadata": {},
   "outputs": [
    {
     "data": {
      "text/plain": [
       "[{'label': 'surprise', 'score': 0.7296021580696106},\n",
       " {'label': 'neutral', 'score': 0.14038625359535217},\n",
       " {'label': 'fear', 'score': 0.06816215068101883},\n",
       " {'label': 'joy', 'score': 0.0479423962533474},\n",
       " {'label': 'anger', 'score': 0.009156353771686554},\n",
       " {'label': 'disgust', 'score': 0.0026284793857485056},\n",
       " {'label': 'sadness', 'score': 0.0021221640054136515}]"
      ]
     },
     "execution_count": 13,
     "metadata": {},
     "output_type": "execute_result"
    }
   ],
   "source": [
    "# Displaying prediction for all sentences\n",
    "\n",
    "prediction[0]"
   ]
  },
  {
   "cell_type": "code",
   "execution_count": 16,
   "id": "b5bc9084",
   "metadata": {},
   "outputs": [
    {
     "data": {
      "text/plain": [
       "' It’s 1956 in Gilead, Iowa, towards the end of the Reverend Ames’s life, and he is absorbed in recording his family’s story, a legacy for the young son he will never see grow up'"
      ]
     },
     "execution_count": 16,
     "metadata": {},
     "output_type": "execute_result"
    }
   ],
   "source": [
    "sentence[2]"
   ]
  },
  {
   "cell_type": "code",
   "execution_count": 17,
   "id": "01d81425",
   "metadata": {},
   "outputs": [
    {
     "data": {
      "text/plain": [
       "[{'label': 'neutral', 'score': 0.6462162137031555},\n",
       " {'label': 'sadness', 'score': 0.24273328483104706},\n",
       " {'label': 'disgust', 'score': 0.043422579765319824},\n",
       " {'label': 'surprise', 'score': 0.028300493955612183},\n",
       " {'label': 'joy', 'score': 0.014211435802280903},\n",
       " {'label': 'fear', 'score': 0.014084085822105408},\n",
       " {'label': 'anger', 'score': 0.011031859554350376}]"
      ]
     },
     "execution_count": 17,
     "metadata": {},
     "output_type": "execute_result"
    }
   ],
   "source": [
    "prediction[2]"
   ]
  },
  {
   "cell_type": "code",
   "execution_count": null,
   "id": "19afcc9b",
   "metadata": {},
   "outputs": [
    {
     "data": {
      "text/plain": [
       "[[{'label': 'surprise', 'score': 0.7296021580696106},\n",
       "  {'label': 'neutral', 'score': 0.14038625359535217},\n",
       "  {'label': 'fear', 'score': 0.06816215068101883},\n",
       "  {'label': 'joy', 'score': 0.0479423962533474},\n",
       "  {'label': 'anger', 'score': 0.009156353771686554},\n",
       "  {'label': 'disgust', 'score': 0.0026284793857485056},\n",
       "  {'label': 'sadness', 'score': 0.0021221640054136515}],\n",
       " [{'label': 'neutral', 'score': 0.44937190413475037},\n",
       "  {'label': 'disgust', 'score': 0.2735902965068817},\n",
       "  {'label': 'joy', 'score': 0.1090828999876976},\n",
       "  {'label': 'sadness', 'score': 0.09362740814685822},\n",
       "  {'label': 'anger', 'score': 0.04047819972038269},\n",
       "  {'label': 'surprise', 'score': 0.02697022259235382},\n",
       "  {'label': 'fear', 'score': 0.00687906239181757}],\n",
       " [{'label': 'neutral', 'score': 0.6462162137031555},\n",
       "  {'label': 'sadness', 'score': 0.24273328483104706},\n",
       "  {'label': 'disgust', 'score': 0.043422579765319824},\n",
       "  {'label': 'surprise', 'score': 0.028300493955612183},\n",
       "  {'label': 'joy', 'score': 0.014211435802280903},\n",
       "  {'label': 'fear', 'score': 0.014084085822105408},\n",
       "  {'label': 'anger', 'score': 0.011031859554350376}],\n",
       " [{'label': 'fear', 'score': 0.9281688332557678},\n",
       "  {'label': 'anger', 'score': 0.03219037875533104},\n",
       "  {'label': 'neutral', 'score': 0.012808619067072868},\n",
       "  {'label': 'sadness', 'score': 0.00875683780759573},\n",
       "  {'label': 'surprise', 'score': 0.008597852662205696},\n",
       "  {'label': 'disgust', 'score': 0.008431759662926197},\n",
       "  {'label': 'joy', 'score': 0.001045577460899949}],\n",
       " [{'label': 'sadness', 'score': 0.9671575427055359},\n",
       "  {'label': 'neutral', 'score': 0.015104164369404316},\n",
       "  {'label': 'disgust', 'score': 0.006480592768639326},\n",
       "  {'label': 'fear', 'score': 0.005393995437771082},\n",
       "  {'label': 'surprise', 'score': 0.0022869398817420006},\n",
       "  {'label': 'anger', 'score': 0.0018428867915645242},\n",
       "  {'label': 'joy', 'score': 0.0017338780453428626}],\n",
       " [{'label': 'joy', 'score': 0.9327982664108276},\n",
       "  {'label': 'disgust', 'score': 0.03771692514419556},\n",
       "  {'label': 'neutral', 'score': 0.015891805291175842},\n",
       "  {'label': 'sadness', 'score': 0.006444476079195738},\n",
       "  {'label': 'anger', 'score': 0.005024957004934549},\n",
       "  {'label': 'surprise', 'score': 0.0015812045894563198},\n",
       "  {'label': 'fear', 'score': 0.0005423055263236165}],\n",
       " [{'label': 'joy', 'score': 0.6528705954551697},\n",
       "  {'label': 'neutral', 'score': 0.25427472591400146},\n",
       "  {'label': 'surprise', 'score': 0.06808312982320786},\n",
       "  {'label': 'sadness', 'score': 0.00990901980549097},\n",
       "  {'label': 'disgust', 'score': 0.0065122139640152454},\n",
       "  {'label': 'anger', 'score': 0.004821311682462692},\n",
       "  {'label': 'fear', 'score': 0.003529016161337495}],\n",
       " [{'label': 'neutral', 'score': 0.5494773387908936},\n",
       "  {'label': 'sadness', 'score': 0.11169011145830154},\n",
       "  {'label': 'disgust', 'score': 0.1040065661072731},\n",
       "  {'label': 'surprise', 'score': 0.07876542955636978},\n",
       "  {'label': 'anger', 'score': 0.06413352489471436},\n",
       "  {'label': 'fear', 'score': 0.05136272683739662},\n",
       "  {'label': 'joy', 'score': 0.040564339607954025}]]"
      ]
     },
     "execution_count": 18,
     "metadata": {},
     "output_type": "execute_result"
    }
   ],
   "source": [
    "# max score for all labels\n",
    "prediction"
   ]
  },
  {
   "cell_type": "code",
   "execution_count": null,
   "id": "2a8f570d",
   "metadata": {},
   "outputs": [
    {
     "data": {
      "text/plain": [
       "[{'label': 'anger', 'score': 0.009156353771686554},\n",
       " {'label': 'disgust', 'score': 0.0026284793857485056},\n",
       " {'label': 'fear', 'score': 0.06816215068101883},\n",
       " {'label': 'joy', 'score': 0.0479423962533474},\n",
       " {'label': 'neutral', 'score': 0.14038625359535217},\n",
       " {'label': 'sadness', 'score': 0.0021221640054136515},\n",
       " {'label': 'surprise', 'score': 0.7296021580696106}]"
      ]
     },
     "execution_count": 19,
     "metadata": {},
     "output_type": "execute_result"
    }
   ],
   "source": [
    "# sorting the scores for the first sentence by emotion score\n",
    "\n",
    "sorted(prediction[0], key = lambda x: x[\"label\"])"
   ]
  },
  {
   "cell_type": "code",
   "execution_count": null,
   "id": "e62eab17",
   "metadata": {},
   "outputs": [],
   "source": [
    "\n",
    "import numpy as np\n",
    "\n",
    "# storing the emotion labels\n",
    "emotion_labels = [\"anger\", \"disgust\", \"fear\", \"joy\", \"neutral\", \"sadness\", \"suprise\"]\n",
    "\n",
    "# list to store the results\n",
    "isbn = []\n",
    "\n",
    "emotion_scores = { label : [] for label in emotion_labels}"
   ]
  },
  {
   "cell_type": "code",
   "execution_count": null,
   "id": "7418e58e",
   "metadata": {},
   "outputs": [],
   "source": [
    "\n",
    "# a function to find max emotion score per label over all sentences of a book\n",
    "\n",
    "def calculate_max_emotion_scores(prediction):\n",
    "    \n",
    "    max_scores = {label: 0 for label in emotion_labels}\n",
    "\n",
    "    for pred_list in prediction:        # iterate through each sentences\n",
    "        for p in pred_list:             # iterate for each emotion score\n",
    "            label = p[\"label\"]\n",
    "            score = p[\"score\"]\n",
    "            if label not in max_scores:\n",
    "                max_scores[label] = score  # add the missing emotion in it\n",
    "            else:\n",
    "                if score > max_scores[label]:\n",
    "                    max_scores[label] = score       # store the highest score\n",
    "\n",
    "    return max_scores\n"
   ]
  },
  {
   "cell_type": "code",
   "execution_count": null,
   "id": "197e601e",
   "metadata": {},
   "outputs": [],
   "source": [
    "\n",
    "# Iterating through first 10 books\n",
    "\n",
    "for i in range (10):\n",
    "\n",
    "    isbn.append(books[\"isbn13\"][i])\n",
    "\n",
    "    sentence = books[\"description\"][i].split(\".\")\n",
    "\n",
    "    prediction = classifier(sentence)\n",
    "\n",
    "    max_score = calculate_max_emotion_scores(prediction)\n",
    "\n",
    "    for label in emotion_labels:\n",
    "\n",
    "        emotion_scores[label].append(max_score[label])"
   ]
  },
  {
   "cell_type": "code",
   "execution_count": 38,
   "id": "ae804434",
   "metadata": {},
   "outputs": [
    {
     "data": {
      "text/plain": [
       "{'anger': [0.06413352489471436,\n",
       "  0.6126186847686768,\n",
       "  0.06413352489471436,\n",
       "  0.35148337483406067,\n",
       "  0.08141209185123444,\n",
       "  0.23222483694553375,\n",
       "  0.5381850600242615,\n",
       "  0.06413352489471436,\n",
       "  0.30067047476768494,\n",
       "  0.06413352489471436],\n",
       " 'disgust': [0.2735902965068817,\n",
       "  0.34828585386276245,\n",
       "  0.1040065661072731,\n",
       "  0.15072239935398102,\n",
       "  0.18449506163597107,\n",
       "  0.7271748185157776,\n",
       "  0.1558549702167511,\n",
       "  0.1040065661072731,\n",
       "  0.2794809639453888,\n",
       "  0.17792749404907227],\n",
       " 'fear': [0.9281688332557678,\n",
       "  0.9425276517868042,\n",
       "  0.9723208546638489,\n",
       "  0.3607071340084076,\n",
       "  0.09504341334104538,\n",
       "  0.05136272683739662,\n",
       "  0.7474281787872314,\n",
       "  0.404495507478714,\n",
       "  0.9155241250991821,\n",
       "  0.05136272683739662],\n",
       " 'joy': [0.9327982664108276,\n",
       "  0.7044215798377991,\n",
       "  0.7672368884086609,\n",
       "  0.25188106298446655,\n",
       "  0.040564339607954025,\n",
       "  0.04337584599852562,\n",
       "  0.8725656270980835,\n",
       "  0.040564339607954025,\n",
       "  0.040564339607954025,\n",
       "  0.040564339607954025],\n",
       " 'neutral': [0.6462162137031555,\n",
       "  0.8879395127296448,\n",
       "  0.5494773387908936,\n",
       "  0.7326865792274475,\n",
       "  0.884389340877533,\n",
       "  0.6213926672935486,\n",
       "  0.712194561958313,\n",
       "  0.5494773387908936,\n",
       "  0.840289294719696,\n",
       "  0.8603722453117371],\n",
       " 'sadness': [0.9671575427055359,\n",
       "  0.11169011145830154,\n",
       "  0.11169011145830154,\n",
       "  0.11169011145830154,\n",
       "  0.47588133811950684,\n",
       "  0.11169011145830154,\n",
       "  0.4079986810684204,\n",
       "  0.8202826976776123,\n",
       "  0.35445958375930786,\n",
       "  0.11169011145830154],\n",
       " 'suprise': [0, 0, 0, 0, 0, 0, 0, 0, 0, 0]}"
      ]
     },
     "execution_count": 38,
     "metadata": {},
     "output_type": "execute_result"
    }
   ],
   "source": [
    "\n",
    "emotion_scores"
   ]
  },
  {
   "cell_type": "code",
   "execution_count": 39,
   "id": "20d33554",
   "metadata": {},
   "outputs": [
    {
     "name": "stderr",
     "output_type": "stream",
     "text": [
      "100%|██████████| 5197/5197 [12:13<00:00,  7.08it/s]  \n"
     ]
    }
   ],
   "source": [
    "\n",
    "from tqdm import tqdm\n",
    "\n",
    "\n",
    "emotion_labels = [\"anger\", \"disgust\", \"fear\", \"joy\", \"neutral\", \"sadness\", \"suprise\"]\n",
    "\n",
    "isbn = []\n",
    "\n",
    "emotion_scores = { label : [] for label in emotion_labels}\n",
    "\n",
    "for i in tqdm(range (len(books))):\n",
    "\n",
    "    isbn.append(books[\"isbn13\"][i])\n",
    "\n",
    "    sentence = books[\"description\"][i].split(\".\")\n",
    "\n",
    "    prediction = classifier(sentence)\n",
    "\n",
    "    max_score = calculate_max_emotion_scores(prediction)\n",
    "\n",
    "    for label in emotion_labels:\n",
    "\n",
    "        emotion_scores[label].append(max_score[label])\n"
   ]
  },
  {
   "cell_type": "code",
   "execution_count": 40,
   "id": "021c1943",
   "metadata": {},
   "outputs": [],
   "source": [
    "# passing result in dataframe\n",
    "\n",
    "emotion_df = pd.DataFrame(emotion_scores)\n",
    "\n",
    "emotion_df[\"isbn13\"] = isbn"
   ]
  },
  {
   "cell_type": "code",
   "execution_count": 41,
   "id": "4881d241",
   "metadata": {},
   "outputs": [
    {
     "data": {
      "text/html": [
       "<div>\n",
       "<style scoped>\n",
       "    .dataframe tbody tr th:only-of-type {\n",
       "        vertical-align: middle;\n",
       "    }\n",
       "\n",
       "    .dataframe tbody tr th {\n",
       "        vertical-align: top;\n",
       "    }\n",
       "\n",
       "    .dataframe thead th {\n",
       "        text-align: right;\n",
       "    }\n",
       "</style>\n",
       "<table border=\"1\" class=\"dataframe\">\n",
       "  <thead>\n",
       "    <tr style=\"text-align: right;\">\n",
       "      <th></th>\n",
       "      <th>anger</th>\n",
       "      <th>disgust</th>\n",
       "      <th>fear</th>\n",
       "      <th>joy</th>\n",
       "      <th>neutral</th>\n",
       "      <th>sadness</th>\n",
       "      <th>suprise</th>\n",
       "      <th>isbn13</th>\n",
       "    </tr>\n",
       "  </thead>\n",
       "  <tbody>\n",
       "    <tr>\n",
       "      <th>0</th>\n",
       "      <td>0.064134</td>\n",
       "      <td>0.273590</td>\n",
       "      <td>0.928169</td>\n",
       "      <td>0.932798</td>\n",
       "      <td>0.646216</td>\n",
       "      <td>0.967158</td>\n",
       "      <td>0</td>\n",
       "      <td>9780002005883</td>\n",
       "    </tr>\n",
       "    <tr>\n",
       "      <th>1</th>\n",
       "      <td>0.612619</td>\n",
       "      <td>0.348286</td>\n",
       "      <td>0.942528</td>\n",
       "      <td>0.704422</td>\n",
       "      <td>0.887940</td>\n",
       "      <td>0.111690</td>\n",
       "      <td>0</td>\n",
       "      <td>9780002261982</td>\n",
       "    </tr>\n",
       "    <tr>\n",
       "      <th>2</th>\n",
       "      <td>0.064134</td>\n",
       "      <td>0.104007</td>\n",
       "      <td>0.972321</td>\n",
       "      <td>0.767237</td>\n",
       "      <td>0.549477</td>\n",
       "      <td>0.111690</td>\n",
       "      <td>0</td>\n",
       "      <td>9780006178736</td>\n",
       "    </tr>\n",
       "    <tr>\n",
       "      <th>3</th>\n",
       "      <td>0.351483</td>\n",
       "      <td>0.150722</td>\n",
       "      <td>0.360707</td>\n",
       "      <td>0.251881</td>\n",
       "      <td>0.732687</td>\n",
       "      <td>0.111690</td>\n",
       "      <td>0</td>\n",
       "      <td>9780006280897</td>\n",
       "    </tr>\n",
       "    <tr>\n",
       "      <th>4</th>\n",
       "      <td>0.081412</td>\n",
       "      <td>0.184495</td>\n",
       "      <td>0.095043</td>\n",
       "      <td>0.040564</td>\n",
       "      <td>0.884389</td>\n",
       "      <td>0.475881</td>\n",
       "      <td>0</td>\n",
       "      <td>9780006280934</td>\n",
       "    </tr>\n",
       "  </tbody>\n",
       "</table>\n",
       "</div>"
      ],
      "text/plain": [
       "      anger   disgust      fear       joy   neutral   sadness  suprise  \\\n",
       "0  0.064134  0.273590  0.928169  0.932798  0.646216  0.967158        0   \n",
       "1  0.612619  0.348286  0.942528  0.704422  0.887940  0.111690        0   \n",
       "2  0.064134  0.104007  0.972321  0.767237  0.549477  0.111690        0   \n",
       "3  0.351483  0.150722  0.360707  0.251881  0.732687  0.111690        0   \n",
       "4  0.081412  0.184495  0.095043  0.040564  0.884389  0.475881        0   \n",
       "\n",
       "          isbn13  \n",
       "0  9780002005883  \n",
       "1  9780002261982  \n",
       "2  9780006178736  \n",
       "3  9780006280897  \n",
       "4  9780006280934  "
      ]
     },
     "execution_count": 41,
     "metadata": {},
     "output_type": "execute_result"
    }
   ],
   "source": [
    "emotion_df.head()"
   ]
  },
  {
   "cell_type": "code",
   "execution_count": null,
   "id": "ae611a9a",
   "metadata": {},
   "outputs": [],
   "source": [
    "# merging emotion score into book dataframe\n",
    "\n",
    "books = pd.merge(books, emotion_df, on = \"isbn13\")"
   ]
  },
  {
   "cell_type": "code",
   "execution_count": 43,
   "id": "462ea45c",
   "metadata": {},
   "outputs": [
    {
     "data": {
      "text/html": [
       "<div>\n",
       "<style scoped>\n",
       "    .dataframe tbody tr th:only-of-type {\n",
       "        vertical-align: middle;\n",
       "    }\n",
       "\n",
       "    .dataframe tbody tr th {\n",
       "        vertical-align: top;\n",
       "    }\n",
       "\n",
       "    .dataframe thead th {\n",
       "        text-align: right;\n",
       "    }\n",
       "</style>\n",
       "<table border=\"1\" class=\"dataframe\">\n",
       "  <thead>\n",
       "    <tr style=\"text-align: right;\">\n",
       "      <th></th>\n",
       "      <th>isbn13</th>\n",
       "      <th>isbn10</th>\n",
       "      <th>title</th>\n",
       "      <th>authors</th>\n",
       "      <th>categories</th>\n",
       "      <th>thumbnail</th>\n",
       "      <th>description</th>\n",
       "      <th>published_year</th>\n",
       "      <th>average_rating</th>\n",
       "      <th>num_pages</th>\n",
       "      <th>ratings_count</th>\n",
       "      <th>title_and_subtitle</th>\n",
       "      <th>tagged_description</th>\n",
       "      <th>anger</th>\n",
       "      <th>disgust</th>\n",
       "      <th>fear</th>\n",
       "      <th>joy</th>\n",
       "      <th>neutral</th>\n",
       "      <th>sadness</th>\n",
       "      <th>suprise</th>\n",
       "    </tr>\n",
       "  </thead>\n",
       "  <tbody>\n",
       "    <tr>\n",
       "      <th>0</th>\n",
       "      <td>9780002005883</td>\n",
       "      <td>0002005883</td>\n",
       "      <td>Gilead</td>\n",
       "      <td>Marilynne Robinson</td>\n",
       "      <td>Fiction</td>\n",
       "      <td>http://books.google.com/books/content?id=KQZCP...</td>\n",
       "      <td>A NOVEL THAT READERS and critics have been eag...</td>\n",
       "      <td>2004.0</td>\n",
       "      <td>3.85</td>\n",
       "      <td>247.0</td>\n",
       "      <td>361.0</td>\n",
       "      <td>Gilead</td>\n",
       "      <td>9780002005883 A NOVEL THAT READERS and critics...</td>\n",
       "      <td>0.064134</td>\n",
       "      <td>0.273590</td>\n",
       "      <td>0.928169</td>\n",
       "      <td>0.932798</td>\n",
       "      <td>0.646216</td>\n",
       "      <td>0.967158</td>\n",
       "      <td>0</td>\n",
       "    </tr>\n",
       "    <tr>\n",
       "      <th>1</th>\n",
       "      <td>9780002261982</td>\n",
       "      <td>0002261987</td>\n",
       "      <td>Spider's Web</td>\n",
       "      <td>Charles Osborne;Agatha Christie</td>\n",
       "      <td>Detective and mystery stories</td>\n",
       "      <td>http://books.google.com/books/content?id=gA5GP...</td>\n",
       "      <td>A new 'Christie for Christmas' -- a full-lengt...</td>\n",
       "      <td>2000.0</td>\n",
       "      <td>3.83</td>\n",
       "      <td>241.0</td>\n",
       "      <td>5164.0</td>\n",
       "      <td>Spider's Web:A Novel</td>\n",
       "      <td>9780002261982 A new 'Christie for Christmas' -...</td>\n",
       "      <td>0.612619</td>\n",
       "      <td>0.348286</td>\n",
       "      <td>0.942528</td>\n",
       "      <td>0.704422</td>\n",
       "      <td>0.887940</td>\n",
       "      <td>0.111690</td>\n",
       "      <td>0</td>\n",
       "    </tr>\n",
       "    <tr>\n",
       "      <th>2</th>\n",
       "      <td>9780006178736</td>\n",
       "      <td>0006178731</td>\n",
       "      <td>Rage of angels</td>\n",
       "      <td>Sidney Sheldon</td>\n",
       "      <td>Fiction</td>\n",
       "      <td>http://books.google.com/books/content?id=FKo2T...</td>\n",
       "      <td>A memorable, mesmerizing heroine Jennifer -- b...</td>\n",
       "      <td>1993.0</td>\n",
       "      <td>3.93</td>\n",
       "      <td>512.0</td>\n",
       "      <td>29532.0</td>\n",
       "      <td>Rage of angels</td>\n",
       "      <td>9780006178736 A memorable, mesmerizing heroine...</td>\n",
       "      <td>0.064134</td>\n",
       "      <td>0.104007</td>\n",
       "      <td>0.972321</td>\n",
       "      <td>0.767237</td>\n",
       "      <td>0.549477</td>\n",
       "      <td>0.111690</td>\n",
       "      <td>0</td>\n",
       "    </tr>\n",
       "    <tr>\n",
       "      <th>3</th>\n",
       "      <td>9780006280897</td>\n",
       "      <td>0006280897</td>\n",
       "      <td>The Four Loves</td>\n",
       "      <td>Clive Staples Lewis</td>\n",
       "      <td>Christian life</td>\n",
       "      <td>http://books.google.com/books/content?id=XhQ5X...</td>\n",
       "      <td>Lewis' work on the nature of love divides love...</td>\n",
       "      <td>2002.0</td>\n",
       "      <td>4.15</td>\n",
       "      <td>170.0</td>\n",
       "      <td>33684.0</td>\n",
       "      <td>The Four Loves</td>\n",
       "      <td>9780006280897 Lewis' work on the nature of lov...</td>\n",
       "      <td>0.351483</td>\n",
       "      <td>0.150722</td>\n",
       "      <td>0.360707</td>\n",
       "      <td>0.251881</td>\n",
       "      <td>0.732687</td>\n",
       "      <td>0.111690</td>\n",
       "      <td>0</td>\n",
       "    </tr>\n",
       "    <tr>\n",
       "      <th>4</th>\n",
       "      <td>9780006280934</td>\n",
       "      <td>0006280935</td>\n",
       "      <td>The Problem of Pain</td>\n",
       "      <td>Clive Staples Lewis</td>\n",
       "      <td>Christian life</td>\n",
       "      <td>http://books.google.com/books/content?id=Kk-uV...</td>\n",
       "      <td>\"In The Problem of Pain, C.S. Lewis, one of th...</td>\n",
       "      <td>2002.0</td>\n",
       "      <td>4.09</td>\n",
       "      <td>176.0</td>\n",
       "      <td>37569.0</td>\n",
       "      <td>The Problem of Pain</td>\n",
       "      <td>9780006280934 \"In The Problem of Pain, C.S. Le...</td>\n",
       "      <td>0.081412</td>\n",
       "      <td>0.184495</td>\n",
       "      <td>0.095043</td>\n",
       "      <td>0.040564</td>\n",
       "      <td>0.884389</td>\n",
       "      <td>0.475881</td>\n",
       "      <td>0</td>\n",
       "    </tr>\n",
       "    <tr>\n",
       "      <th>...</th>\n",
       "      <td>...</td>\n",
       "      <td>...</td>\n",
       "      <td>...</td>\n",
       "      <td>...</td>\n",
       "      <td>...</td>\n",
       "      <td>...</td>\n",
       "      <td>...</td>\n",
       "      <td>...</td>\n",
       "      <td>...</td>\n",
       "      <td>...</td>\n",
       "      <td>...</td>\n",
       "      <td>...</td>\n",
       "      <td>...</td>\n",
       "      <td>...</td>\n",
       "      <td>...</td>\n",
       "      <td>...</td>\n",
       "      <td>...</td>\n",
       "      <td>...</td>\n",
       "      <td>...</td>\n",
       "      <td>...</td>\n",
       "    </tr>\n",
       "    <tr>\n",
       "      <th>5192</th>\n",
       "      <td>9788172235222</td>\n",
       "      <td>8172235224</td>\n",
       "      <td>Mistaken Identity</td>\n",
       "      <td>Nayantara Sahgal</td>\n",
       "      <td>Indic fiction (English)</td>\n",
       "      <td>http://books.google.com/books/content?id=q-tKP...</td>\n",
       "      <td>On A Train Journey Home To North India After L...</td>\n",
       "      <td>2003.0</td>\n",
       "      <td>2.93</td>\n",
       "      <td>324.0</td>\n",
       "      <td>0.0</td>\n",
       "      <td>Mistaken Identity</td>\n",
       "      <td>9788172235222 On A Train Journey Home To North...</td>\n",
       "      <td>0.148208</td>\n",
       "      <td>0.030643</td>\n",
       "      <td>0.919165</td>\n",
       "      <td>0.255170</td>\n",
       "      <td>0.853723</td>\n",
       "      <td>0.980877</td>\n",
       "      <td>0</td>\n",
       "    </tr>\n",
       "    <tr>\n",
       "      <th>5193</th>\n",
       "      <td>9788173031014</td>\n",
       "      <td>8173031010</td>\n",
       "      <td>Journey to the East</td>\n",
       "      <td>Hermann Hesse</td>\n",
       "      <td>Adventure stories</td>\n",
       "      <td>http://books.google.com/books/content?id=rq6JP...</td>\n",
       "      <td>This book tells the tale of a man who goes on ...</td>\n",
       "      <td>2002.0</td>\n",
       "      <td>3.70</td>\n",
       "      <td>175.0</td>\n",
       "      <td>24.0</td>\n",
       "      <td>Journey to the East</td>\n",
       "      <td>9788173031014 This book tells the tale of a ma...</td>\n",
       "      <td>0.064134</td>\n",
       "      <td>0.114383</td>\n",
       "      <td>0.051363</td>\n",
       "      <td>0.400263</td>\n",
       "      <td>0.883198</td>\n",
       "      <td>0.111690</td>\n",
       "      <td>0</td>\n",
       "    </tr>\n",
       "    <tr>\n",
       "      <th>5194</th>\n",
       "      <td>9788179921623</td>\n",
       "      <td>817992162X</td>\n",
       "      <td>The Monk Who Sold His Ferrari: A Fable About F...</td>\n",
       "      <td>Robin Sharma</td>\n",
       "      <td>Health &amp; Fitness</td>\n",
       "      <td>http://books.google.com/books/content?id=c_7mf...</td>\n",
       "      <td>Wisdom to Create a Life of Passion, Purpose, a...</td>\n",
       "      <td>2003.0</td>\n",
       "      <td>3.82</td>\n",
       "      <td>198.0</td>\n",
       "      <td>1568.0</td>\n",
       "      <td>The Monk Who Sold His Ferrari: A Fable About F...</td>\n",
       "      <td>9788179921623 Wisdom to Create a Life of Passi...</td>\n",
       "      <td>0.009997</td>\n",
       "      <td>0.009929</td>\n",
       "      <td>0.339217</td>\n",
       "      <td>0.947779</td>\n",
       "      <td>0.375755</td>\n",
       "      <td>0.066685</td>\n",
       "      <td>0</td>\n",
       "    </tr>\n",
       "    <tr>\n",
       "      <th>5195</th>\n",
       "      <td>9788185300535</td>\n",
       "      <td>8185300534</td>\n",
       "      <td>I Am that</td>\n",
       "      <td>Sri Nisargadatta Maharaj;Sudhakar S. Dikshit</td>\n",
       "      <td>Philosophy</td>\n",
       "      <td>http://books.google.com/books/content?id=Fv_JP...</td>\n",
       "      <td>This collection of the timeless teachings of o...</td>\n",
       "      <td>1999.0</td>\n",
       "      <td>4.51</td>\n",
       "      <td>531.0</td>\n",
       "      <td>104.0</td>\n",
       "      <td>I Am that:Talks with Sri Nisargadatta Maharaj</td>\n",
       "      <td>9788185300535 This collection of the timeless ...</td>\n",
       "      <td>0.064134</td>\n",
       "      <td>0.104007</td>\n",
       "      <td>0.459270</td>\n",
       "      <td>0.759455</td>\n",
       "      <td>0.951104</td>\n",
       "      <td>0.368110</td>\n",
       "      <td>0</td>\n",
       "    </tr>\n",
       "    <tr>\n",
       "      <th>5196</th>\n",
       "      <td>9789027712059</td>\n",
       "      <td>9027712050</td>\n",
       "      <td>The Berlin Phenomenology</td>\n",
       "      <td>Georg Wilhelm Friedrich Hegel</td>\n",
       "      <td>History</td>\n",
       "      <td>http://books.google.com/books/content?id=Vy7Sk...</td>\n",
       "      <td>Since the three volume edition ofHegel's Philo...</td>\n",
       "      <td>1981.0</td>\n",
       "      <td>0.00</td>\n",
       "      <td>210.0</td>\n",
       "      <td>0.0</td>\n",
       "      <td>The Berlin Phenomenology</td>\n",
       "      <td>9789027712059 Since the three volume edition o...</td>\n",
       "      <td>0.064134</td>\n",
       "      <td>0.104007</td>\n",
       "      <td>0.051363</td>\n",
       "      <td>0.958549</td>\n",
       "      <td>0.915193</td>\n",
       "      <td>0.111690</td>\n",
       "      <td>0</td>\n",
       "    </tr>\n",
       "  </tbody>\n",
       "</table>\n",
       "<p>5197 rows × 20 columns</p>\n",
       "</div>"
      ],
      "text/plain": [
       "             isbn13      isbn10  \\\n",
       "0     9780002005883  0002005883   \n",
       "1     9780002261982  0002261987   \n",
       "2     9780006178736  0006178731   \n",
       "3     9780006280897  0006280897   \n",
       "4     9780006280934  0006280935   \n",
       "...             ...         ...   \n",
       "5192  9788172235222  8172235224   \n",
       "5193  9788173031014  8173031010   \n",
       "5194  9788179921623  817992162X   \n",
       "5195  9788185300535  8185300534   \n",
       "5196  9789027712059  9027712050   \n",
       "\n",
       "                                                  title  \\\n",
       "0                                                Gilead   \n",
       "1                                          Spider's Web   \n",
       "2                                        Rage of angels   \n",
       "3                                        The Four Loves   \n",
       "4                                   The Problem of Pain   \n",
       "...                                                 ...   \n",
       "5192                                  Mistaken Identity   \n",
       "5193                                Journey to the East   \n",
       "5194  The Monk Who Sold His Ferrari: A Fable About F...   \n",
       "5195                                          I Am that   \n",
       "5196                           The Berlin Phenomenology   \n",
       "\n",
       "                                           authors  \\\n",
       "0                               Marilynne Robinson   \n",
       "1                  Charles Osborne;Agatha Christie   \n",
       "2                                   Sidney Sheldon   \n",
       "3                              Clive Staples Lewis   \n",
       "4                              Clive Staples Lewis   \n",
       "...                                            ...   \n",
       "5192                              Nayantara Sahgal   \n",
       "5193                                 Hermann Hesse   \n",
       "5194                                  Robin Sharma   \n",
       "5195  Sri Nisargadatta Maharaj;Sudhakar S. Dikshit   \n",
       "5196                 Georg Wilhelm Friedrich Hegel   \n",
       "\n",
       "                         categories  \\\n",
       "0                           Fiction   \n",
       "1     Detective and mystery stories   \n",
       "2                           Fiction   \n",
       "3                    Christian life   \n",
       "4                    Christian life   \n",
       "...                             ...   \n",
       "5192        Indic fiction (English)   \n",
       "5193              Adventure stories   \n",
       "5194               Health & Fitness   \n",
       "5195                     Philosophy   \n",
       "5196                        History   \n",
       "\n",
       "                                              thumbnail  \\\n",
       "0     http://books.google.com/books/content?id=KQZCP...   \n",
       "1     http://books.google.com/books/content?id=gA5GP...   \n",
       "2     http://books.google.com/books/content?id=FKo2T...   \n",
       "3     http://books.google.com/books/content?id=XhQ5X...   \n",
       "4     http://books.google.com/books/content?id=Kk-uV...   \n",
       "...                                                 ...   \n",
       "5192  http://books.google.com/books/content?id=q-tKP...   \n",
       "5193  http://books.google.com/books/content?id=rq6JP...   \n",
       "5194  http://books.google.com/books/content?id=c_7mf...   \n",
       "5195  http://books.google.com/books/content?id=Fv_JP...   \n",
       "5196  http://books.google.com/books/content?id=Vy7Sk...   \n",
       "\n",
       "                                            description  published_year  \\\n",
       "0     A NOVEL THAT READERS and critics have been eag...          2004.0   \n",
       "1     A new 'Christie for Christmas' -- a full-lengt...          2000.0   \n",
       "2     A memorable, mesmerizing heroine Jennifer -- b...          1993.0   \n",
       "3     Lewis' work on the nature of love divides love...          2002.0   \n",
       "4     \"In The Problem of Pain, C.S. Lewis, one of th...          2002.0   \n",
       "...                                                 ...             ...   \n",
       "5192  On A Train Journey Home To North India After L...          2003.0   \n",
       "5193  This book tells the tale of a man who goes on ...          2002.0   \n",
       "5194  Wisdom to Create a Life of Passion, Purpose, a...          2003.0   \n",
       "5195  This collection of the timeless teachings of o...          1999.0   \n",
       "5196  Since the three volume edition ofHegel's Philo...          1981.0   \n",
       "\n",
       "      average_rating  num_pages  ratings_count  \\\n",
       "0               3.85      247.0          361.0   \n",
       "1               3.83      241.0         5164.0   \n",
       "2               3.93      512.0        29532.0   \n",
       "3               4.15      170.0        33684.0   \n",
       "4               4.09      176.0        37569.0   \n",
       "...              ...        ...            ...   \n",
       "5192            2.93      324.0            0.0   \n",
       "5193            3.70      175.0           24.0   \n",
       "5194            3.82      198.0         1568.0   \n",
       "5195            4.51      531.0          104.0   \n",
       "5196            0.00      210.0            0.0   \n",
       "\n",
       "                                     title_and_subtitle  \\\n",
       "0                                                Gilead   \n",
       "1                                  Spider's Web:A Novel   \n",
       "2                                        Rage of angels   \n",
       "3                                        The Four Loves   \n",
       "4                                   The Problem of Pain   \n",
       "...                                                 ...   \n",
       "5192                                  Mistaken Identity   \n",
       "5193                                Journey to the East   \n",
       "5194  The Monk Who Sold His Ferrari: A Fable About F...   \n",
       "5195      I Am that:Talks with Sri Nisargadatta Maharaj   \n",
       "5196                           The Berlin Phenomenology   \n",
       "\n",
       "                                     tagged_description     anger   disgust  \\\n",
       "0     9780002005883 A NOVEL THAT READERS and critics...  0.064134  0.273590   \n",
       "1     9780002261982 A new 'Christie for Christmas' -...  0.612619  0.348286   \n",
       "2     9780006178736 A memorable, mesmerizing heroine...  0.064134  0.104007   \n",
       "3     9780006280897 Lewis' work on the nature of lov...  0.351483  0.150722   \n",
       "4     9780006280934 \"In The Problem of Pain, C.S. Le...  0.081412  0.184495   \n",
       "...                                                 ...       ...       ...   \n",
       "5192  9788172235222 On A Train Journey Home To North...  0.148208  0.030643   \n",
       "5193  9788173031014 This book tells the tale of a ma...  0.064134  0.114383   \n",
       "5194  9788179921623 Wisdom to Create a Life of Passi...  0.009997  0.009929   \n",
       "5195  9788185300535 This collection of the timeless ...  0.064134  0.104007   \n",
       "5196  9789027712059 Since the three volume edition o...  0.064134  0.104007   \n",
       "\n",
       "          fear       joy   neutral   sadness  suprise  \n",
       "0     0.928169  0.932798  0.646216  0.967158        0  \n",
       "1     0.942528  0.704422  0.887940  0.111690        0  \n",
       "2     0.972321  0.767237  0.549477  0.111690        0  \n",
       "3     0.360707  0.251881  0.732687  0.111690        0  \n",
       "4     0.095043  0.040564  0.884389  0.475881        0  \n",
       "...        ...       ...       ...       ...      ...  \n",
       "5192  0.919165  0.255170  0.853723  0.980877        0  \n",
       "5193  0.051363  0.400263  0.883198  0.111690        0  \n",
       "5194  0.339217  0.947779  0.375755  0.066685        0  \n",
       "5195  0.459270  0.759455  0.951104  0.368110        0  \n",
       "5196  0.051363  0.958549  0.915193  0.111690        0  \n",
       "\n",
       "[5197 rows x 20 columns]"
      ]
     },
     "execution_count": 43,
     "metadata": {},
     "output_type": "execute_result"
    }
   ],
   "source": [
    "books"
   ]
  },
  {
   "cell_type": "code",
   "execution_count": null,
   "id": "364e2cd4",
   "metadata": {},
   "outputs": [],
   "source": [
    "# storing the result in .csv file\n",
    "\n",
    "books.to_csv(\"books_emotions.csv\", index = False)"
   ]
  },
  {
   "cell_type": "code",
   "execution_count": null,
   "id": "6fa8fb64",
   "metadata": {},
   "outputs": [],
   "source": []
  }
 ],
 "metadata": {
  "kernelspec": {
   "display_name": ".venv (3.12.0)",
   "language": "python",
   "name": "python3"
  },
  "language_info": {
   "codemirror_mode": {
    "name": "ipython",
    "version": 3
   },
   "file_extension": ".py",
   "mimetype": "text/x-python",
   "name": "python",
   "nbconvert_exporter": "python",
   "pygments_lexer": "ipython3",
   "version": "3.12.0"
  }
 },
 "nbformat": 4,
 "nbformat_minor": 5
}
